{
 "cells": [
  {
   "cell_type": "code",
   "execution_count": 1,
   "id": "b77938bf",
   "metadata": {},
   "outputs": [
    {
     "name": "stdout",
     "output_type": "stream",
     "text": [
      "Factorial of 5 is : 120\n"
     ]
    }
   ],
   "source": [
    "# Q 1: Accept a number from the user and find the factorial of the number using a function with a parameter and return type.\n",
    "\n",
    "num = int(input(\"Enter the number you to find the Factorial for : \"))\n",
    "\n",
    "def fact(num):\n",
    "    if num == 0:\n",
    "        return 1\n",
    "    else:\n",
    "        return num * fact(num - 1)\n",
    "result = fact(num)\n",
    "\n",
    "print(f\"Factorial of {num} is : {result}\")"
   ]
  },
  {
   "cell_type": "code",
   "execution_count": 2,
   "id": "91c75fd5",
   "metadata": {},
   "outputs": [
    {
     "name": "stdout",
     "output_type": "stream",
     "text": [
      "String is not Pallindrome\n"
     ]
    }
   ],
   "source": [
    "# Q 2: Write a function that accepts a string and returns True if the string is a palindrome, and False otherwise.\n",
    "\n",
    "str1 = input(\"Enter the String : \")\n",
    "\n",
    "def pallindrome(str1):\n",
    "\n",
    "    pal = str1[::-1]\n",
    "    if str1 == pal:\n",
    "        return True\n",
    "    else:\n",
    "        return False\n",
    "\n",
    "if pallindrome(str1):\n",
    "    print(\"String is Pallindrome\")\n",
    "else:\n",
    "    print(\"String is not Pallindrome\")"
   ]
  },
  {
   "cell_type": "code",
   "execution_count": 11,
   "id": "9a6d22ef",
   "metadata": {},
   "outputs": [
    {
     "name": "stdout",
     "output_type": "stream",
     "text": [
      "List is :  [1, 2, 3, 4, 5, 6]\n",
      "Sum of all even numbers is :  12\n"
     ]
    }
   ],
   "source": [
    "# Q 3: Write a function that accepts a list of numbers and returns the sum of all even numbers in the list.\n",
    "\n",
    "size = int(input(\"Enter the size of the list : \"))\n",
    "\n",
    "\n",
    "def func(size):\n",
    "    sum = 0\n",
    "    list1 = []\n",
    "\n",
    "    for i in range(size):\n",
    "        add = int(input(\"Enter the data into the list : \"))\n",
    "        list1.append(add)\n",
    "\n",
    "    print(\"List is : \", list1)\n",
    "\n",
    "    for i in list1:\n",
    "        if i % 2 == 0:\n",
    "            sum += i\n",
    "    return sum\n",
    "\n",
    "print(\"Sum of all even numbers is : \", func(size))"
   ]
  },
  {
   "cell_type": "code",
   "execution_count": null,
   "id": "82b7c565",
   "metadata": {},
   "outputs": [
    {
     "name": "stdout",
     "output_type": "stream",
     "text": [
      "List is :  [1, 2, 3, 4, 5]\n",
      "Maximum Number in the list is :  5\n"
     ]
    }
   ],
   "source": [
    "# Q 4: Write a function that accepts a list of numbers and returns the maximum value in the list.\n",
    "\n",
    "size = int(input(\"Enter the size of the list : \"))\n",
    "\n",
    "\n",
    "def func(size):\n",
    "    list1 = []\n",
    "    list2 = []\n",
    "    for i in range(size):\n",
    "        add = int(input(\"Enter the data into the list : \"))\n",
    "        list1.append(add)\n",
    "\n",
    "    print(\"List is : \", list1)\n",
    "\n",
    "    list2 = sorted(list1)\n",
    "    max_val = list2[-1]\n",
    "    return max_val\n",
    "\n",
    "print(\"Maximum Number in the list is : \", func(size))"
   ]
  },
  {
   "cell_type": "code",
   "execution_count": 61,
   "id": "661b665d",
   "metadata": {},
   "outputs": [
    {
     "name": "stdout",
     "output_type": "stream",
     "text": [
      "[1, 2, 22]\n",
      "max :  22\n",
      "Min : 1\n",
      "Max :  [22]\n"
     ]
    }
   ],
   "source": [
    "# Q4 Alternate Option\n",
    "\n",
    "list1 = [1,22,2]\n",
    "list2 = []\n",
    "temp = 0\n",
    "size = len(list1)\n",
    "for i in range(size):\n",
    "    for j in range(i+1):\n",
    "        if list1[i] < list1[j]:\n",
    "            temp = list1[i]\n",
    "            list1[i] = list1[j]\n",
    "            list1[j] = temp\n",
    "print(list1)\n",
    "\n",
    "print(\"max : \",list1[-1])\n",
    "print(\"Min :\",list1[0])\n",
    "\n",
    "list2.append(list1[-1])\n",
    "print(\"Max : \",list2)\n"
   ]
  },
  {
   "cell_type": "code",
   "execution_count": 22,
   "id": "eef8fc1a",
   "metadata": {},
   "outputs": [
    {
     "name": "stdout",
     "output_type": "stream",
     "text": [
      "It is not prime number\n"
     ]
    }
   ],
   "source": [
    "# Q 5: Accept a number from the user and check if it is a prime number using a function with a parameter and return type.\n",
    "\n",
    "num = int(input(\"Enter the number you want to check : \"))\n",
    "\n",
    "\n",
    "def prime(num):\n",
    "    flag = False\n",
    "    for i in range(2,num):\n",
    "        if num % i == 0:\n",
    "            flag = True\n",
    "    return flag\n",
    "\n",
    "if prime(num):\n",
    "        print(\"It is not prime number\")\n",
    "else:\n",
    "        print(\"It is a prime number\")"
   ]
  },
  {
   "cell_type": "code",
   "execution_count": null,
   "id": "bc461724",
   "metadata": {},
   "outputs": [
    {
     "name": "stdout",
     "output_type": "stream",
     "text": [
      "You string is :  hello\n",
      "Character l Occured 2 times\n"
     ]
    }
   ],
   "source": [
    "# Q 6: Write a function that accepts a string and a character, and returns the number of times the character appears in the string.\n",
    "\n",
    "str1 = input(\"Enter the the string : \")\n",
    "ch1 = input(\"Enter the Character you want to find : \")\n",
    "\n",
    "def getchar(str1, ch1):\n",
    "    count = 0\n",
    "    for i in str1:\n",
    "        if i == ch1:\n",
    "            count += 1\n",
    "    return count\n",
    "\n",
    "print(\"You string is : \",str1)\n",
    "print(f\"Character {ch1} Occured\", getchar(str1, ch1),\"times\")\n"
   ]
  },
  {
   "cell_type": "code",
   "execution_count": null,
   "id": "281f26cb",
   "metadata": {},
   "outputs": [
    {
     "name": "stdout",
     "output_type": "stream",
     "text": [
      "YOu list 1 is :  ['ayan', 'shivam', 'yogesh']\n",
      "Your Reversed list is :  ['naya', 'mavihs', 'hsegoy']\n"
     ]
    }
   ],
   "source": [
    "# Q 7: Write a function that accepts a list of strings and returns a new list with each string reversed.\n",
    "\n",
    "size = int(input(\"Enter the size of the list : \"))\n",
    "def rev(size):\n",
    "    list1 = []\n",
    "    list2 = []\n",
    "    for i in range(size):\n",
    "        add = input(\"Enter the data in the list : \")\n",
    "        list1.append(add)\n",
    "        #list1.reverse()\n",
    "    print(\"Your list 1 is : \",list1)\n",
    "\n",
    "    for i in list1:\n",
    "        add1 = i[::-1]\n",
    "        list2.append(add1)\n",
    "    # print(\"Reversed list is \", list2)\n",
    "    return list2\n",
    "\n",
    "print(\"Your Reversed list is : \",rev(size))"
   ]
  },
  {
   "cell_type": "code",
   "execution_count": null,
   "id": "ee6b8382",
   "metadata": {},
   "outputs": [
    {
     "name": "stdout",
     "output_type": "stream",
     "text": [
      "Your list 1 is :  ['1', '2', '3', '4', '5']\n",
      "Sum of all the elements of list is : 15\n",
      "Average of all the number of list is :  3.0\n"
     ]
    }
   ],
   "source": [
    "# Q 8: Write a function that accepts a list of numbers and returns the average of the numbers.\n",
    "\n",
    "size = int(input(\"Enter the size of list : \"))\n",
    "list1 = []\n",
    "sum = 0\n",
    "for i in range(size):\n",
    "        add = input(\"Enter the data in the list : \")\n",
    "        list1.append(add)\n",
    "\n",
    "for i in range(1, size+1):\n",
    "        sum += i\n",
    "\n",
    "print(\"Your list 1 is : \",list1)\n",
    "print(\"Sum of all the elements of list is :\", sum)\n",
    "\n",
    "length = len(list1)\n",
    "avg = sum / size\n",
    "\n",
    "print(\"Average of all the number of list is : \", avg)\n"
   ]
  },
  {
   "cell_type": "code",
   "execution_count": 7,
   "id": "af19f8c6",
   "metadata": {},
   "outputs": [
    {
     "name": "stdout",
     "output_type": "stream",
     "text": [
      "Your Converted string is :  SHIVAM\n"
     ]
    }
   ],
   "source": [
    "# Q 9:Accept a string from the user and print it in uppercase if the length of the string is greater than 5, else print it in lowercase using a function.\n",
    "\n",
    "str1 = input(\"Enter the string you want : \")\n",
    "\n",
    "def convert(str1):\n",
    "\n",
    "    size = len(str1)\n",
    "\n",
    "    if size > 5:\n",
    "        str_up = str1.upper()\n",
    "        \n",
    "    else:\n",
    "        str_up = str1.lower()\n",
    "\n",
    "    return str_up\n",
    "print(\"Your Converted string is : \",convert(str1))"
   ]
  },
  {
   "cell_type": "code",
   "execution_count": 13,
   "id": "a76c0101",
   "metadata": {},
   "outputs": [
    {
     "name": "stdout",
     "output_type": "stream",
     "text": [
      "Your list is :  [3, 4, 6, 9, 2]\n",
      "You new list is :  [3, 6, 9]\n"
     ]
    }
   ],
   "source": [
    "# Q 10: Write a function that accepts a list of numbers and returns a new list with only the numbers that are divisible by 3.\n",
    "\n",
    "list1 = []\n",
    "\n",
    "size = int(input(\"Enter the size of the list : \"))\n",
    "\n",
    "for i in range(size):\n",
    "    add = int(input(\"Enter elements in the list : \"))\n",
    "    list1.append(add)\n",
    "\n",
    "print(\"Your list is : \",list1)\n",
    "\n",
    "def div(list1):\n",
    "    list2 = []\n",
    "\n",
    "    for i in list1:\n",
    "        if i % 3 == 0:\n",
    "            list2.append(i)\n",
    "\n",
    "    return list2\n",
    "\n",
    "print(\"You new list is : \", div(list1))\n"
   ]
  },
  {
   "cell_type": "code",
   "execution_count": null,
   "id": "1dd16e23",
   "metadata": {},
   "outputs": [
    {
     "name": "stdout",
     "output_type": "stream",
     "text": [
      "Your list 1 is :  [1, 2, 3, 4, 5]\n",
      "Your new list is :  [1, 4, 9, 16, 25]\n"
     ]
    }
   ],
   "source": [
    "# Q 11: Write a function that accepts a list of numbers and returns a new list with the squares of all the numbers in the list.\n",
    "\n",
    "size = int(input(\"Enter the size of the list : \"))\n",
    "\n",
    "def sqr(size):\n",
    "    list1 = []\n",
    "    for i in range(size):\n",
    "        add = int(input(\"Enter elements in the list : \"))\n",
    "        list1.append(add)\n",
    "    print(\"Your list 1 is : \",list1)\n",
    "\n",
    "    list2 = []\n",
    "\n",
    "    for i in list1:\n",
    "        list2.append(i * i)\n",
    "\n",
    "    return list2\n",
    "\n",
    "print(\"Your new list 2 is : \",sqr(size))\n"
   ]
  },
  {
   "cell_type": "code",
   "execution_count": 24,
   "id": "ad172b61",
   "metadata": {},
   "outputs": [
    {
     "name": "stdout",
     "output_type": "stream",
     "text": [
      " vowels are : 2\n"
     ]
    }
   ],
   "source": [
    "# Q 12: Write a function that accepts a string and counts how many vowels are in the string.\n",
    "\n",
    "str1 = input(\"Enter your string : \")\n",
    "\n",
    "def vow(str1):\n",
    "\n",
    "    count = 0\n",
    "    for i in str1:\n",
    "\n",
    "        if i=='a' or i=='e' or i=='i' or i=='o' or i=='u':\n",
    "            count +=1\n",
    "\n",
    "        elif i=='A' or i=='E' or i=='I' or i=='O' or i=='U':\n",
    "            count +=1\n",
    "\n",
    "    return count\n",
    "print(\" vowels are :\",vow(str1))    \n"
   ]
  },
  {
   "cell_type": "code",
   "execution_count": 34,
   "id": "7b5a9f71",
   "metadata": {},
   "outputs": [
    {
     "name": "stdout",
     "output_type": "stream",
     "text": [
      "5  *  1 = 5\n",
      "5  *  2 = 10\n",
      "5  *  3 = 15\n",
      "5  *  4 = 20\n",
      "5  *  5 = 25\n",
      "5  *  6 = 30\n",
      "5  *  7 = 35\n",
      "5  *  8 = 40\n",
      "5  *  9 = 45\n",
      "5  *  10 = 50\n",
      "None\n"
     ]
    }
   ],
   "source": [
    "# Q 13: Write a function that accepts a number and prints its multiplication table from 1 to 10.\n",
    "\n",
    "num = int(input(\"Enter hte number you the table for : \"))\n",
    "\n",
    "def multiply(num):\n",
    "\n",
    "    for i in range(1,11):\n",
    "        multi = num * i\n",
    "        print(num ,\" * \", i ,\"=\", multi)\n",
    "        #return multi\n",
    "\n",
    "print(multiply(num))\n"
   ]
  },
  {
   "cell_type": "code",
   "execution_count": null,
   "id": "0f7c3b53",
   "metadata": {},
   "outputs": [
    {
     "name": "stdout",
     "output_type": "stream",
     "text": [
      "Your list 1 is :  ['shivam', 'ayan', 'murtaza']\n",
      "Maximum string in the list :  murtaza\n"
     ]
    }
   ],
   "source": [
    "# Q 14: Write a function that accepts a list of strings and returns the longest string in the list.\n",
    "\n",
    "list1 = []\n",
    "\n",
    "size = int(input(\"Enter the size of the list : \"))\n",
    "\n",
    "def maxi(size):\n",
    "\n",
    "    for i in range(size):\n",
    "        str1 = input(\"Enter strings in the list : \")\n",
    "        list1.append(str1)\n",
    "    print(\"Your list 1 is : \",list1)\n",
    "\n",
    "    for i in list1:\n",
    "        max = \"\"\n",
    "\n",
    "    if len(i) > len(max):\n",
    "        max = i\n",
    "    return max\n",
    "\n",
    "print(\"Maximum string in the list : \",maxi(size))"
   ]
  },
  {
   "cell_type": "code",
   "execution_count": null,
   "id": "d173c95f",
   "metadata": {},
   "outputs": [],
   "source": [
    "# Q 15: Write a function that accepts a number and checks if it is an Armstrong number.\n",
    "\n",
    "num = int(input(\"Enter the number you want ot check : \"))\n",
    "temp = num\n",
    "digit = 0\n",
    "\n",
    "while num != 0:\n",
    "    digit +=1\n",
    "\n",
    "print(\"Total digit in the number is : \", digit)\n",
    "\n",
    "for i in range(digit):\n",
    "    "
   ]
  },
  {
   "cell_type": "code",
   "execution_count": 41,
   "id": "767ecf7d",
   "metadata": {},
   "outputs": [
    {
     "name": "stdout",
     "output_type": "stream",
     "text": [
      "Total digit in the number is :  3\n",
      "Sum of all the digit in the number is :  6\n"
     ]
    }
   ],
   "source": [
    "# Q 16: Write a function that accepts a number and returns the sum of its digits.\n",
    "\n",
    "num = int(input(\"Enter the number you want the digit for : \"))\n",
    "\n",
    "def sum_dig(num):\n",
    "\n",
    "    temp = num\n",
    "    digit = 0\n",
    "    rem = 0\n",
    "    sum = 0\n",
    "\n",
    "    while num != 0:\n",
    "        num = num//10\n",
    "        digit +=1\n",
    "\n",
    "    print(\"Total digit in the number is : \", digit)\n",
    "\n",
    "    for i in range(digit):\n",
    "        rem = temp % 10\n",
    "        sum = sum + rem\n",
    "        temp = temp // 10\n",
    "\n",
    "    return sum\n",
    "\n",
    "print(\"Sum of all the digit in the number is : \", sum_dig(num))\n"
   ]
  },
  {
   "cell_type": "code",
   "execution_count": 48,
   "id": "8d17f6df",
   "metadata": {},
   "outputs": [
    {
     "name": "stdout",
     "output_type": "stream",
     "text": [
      "Your new string is :  ShIvAm\n"
     ]
    }
   ],
   "source": [
    "# Q 17: Write a function that accepts a string and returns the string in alternating uppercase and lowercase characters.\n",
    "\n",
    "str1 = input(\"Enter the string : \")\n",
    "\n",
    "def upp_low(str1):\n",
    "    size = len(str1)\n",
    "    str2 = \"\"\n",
    "\n",
    "    for i in range(size):\n",
    "        if i % 2 == 0:\n",
    "            str2 += str1[i].upper()\n",
    "        else:\n",
    "            str2 += str1[i].lower()\n",
    "\n",
    "    return str2\n",
    "\n",
    "print(\"Your new string is : \", upp_low(str1))"
   ]
  },
  {
   "cell_type": "code",
   "execution_count": null,
   "id": "cdc8798c",
   "metadata": {},
   "outputs": [
    {
     "name": "stdout",
     "output_type": "stream",
     "text": [
      "Your list before sorting :  [75, 34, 50]\n",
      "Your list after sorting :  [34, 50, 75]\n",
      "Second largest element in the list is :  50\n"
     ]
    }
   ],
   "source": [
    "# Q 18: Write a function that accepts a list of integers and returns the second largest number in the list.\n",
    "\n",
    "\n",
    "size = int(input(\"Enter the size of the list : \"))\n",
    "def second(size):\n",
    "\n",
    "    list1 = []\n",
    "    temp = 0\n",
    "\n",
    "    for i in range(size):\n",
    "        add = int(input(\"Enter elements in the list : \"))\n",
    "        list1.append(add)\n",
    "    print(\"Your list before sorting : \",list1)\n",
    "\n",
    "    for i in range(size):\n",
    "        for j in range(i+1):\n",
    "            if list1[i] < list1[j]:\n",
    "                temp = list1[i]\n",
    "                list1[i] = list1[j]\n",
    "                list1[j] = temp \n",
    "\n",
    "print(\"Your list after sorting : \",list1)\n",
    "\n",
    "print(\"Second largest element in the list is : \",list1[-2])"
   ]
  },
  {
   "cell_type": "code",
   "execution_count": 11,
   "id": "915895af",
   "metadata": {},
   "outputs": [
    {
     "name": "stdout",
     "output_type": "stream",
     "text": [
      "Product of elements in the list is :  720\n"
     ]
    }
   ],
   "source": [
    "# Q 19: Write a function that accepts a list of numbers and returns the product of all the numbers in the list.\n",
    "\n",
    "list1 = []\n",
    "size = int(input(\"Enter the size of the list : \"))\n",
    "\n",
    "def prod(size):\n",
    "    product = 1\n",
    "    for i in range(size):\n",
    "        add = int(input(\"Enter elements in the list : \"))\n",
    "        list1.append(add)\n",
    "\n",
    "    for i in list1:\n",
    "        product *= i\n",
    "\n",
    "    return product\n",
    "print (\"Product of elements in the list is : \",prod(size))"
   ]
  },
  {
   "cell_type": "code",
   "execution_count": 12,
   "id": "9347f3e8",
   "metadata": {},
   "outputs": [
    {
     "name": "stdout",
     "output_type": "stream",
     "text": [
      "YOu list with odd length is :  ['shiva', 'ayana']\n"
     ]
    }
   ],
   "source": [
    "# Q 20: Write a function that accepts a list of strings and returns a new list with only the strings that have an odd length.\n",
    "\n",
    "list1 = []\n",
    "size = int(input(\"Enter the size of the list : \"))\n",
    "list2 = []\n",
    "\n",
    "def odd(size):\n",
    "    for i in range(size):\n",
    "        str1 = input(\"Enter the string : \")\n",
    "        list1.append(str1)\n",
    "\n",
    "    for i in list1:\n",
    "        if len(i) % 2 != 0:\n",
    "            list2.append(i)\n",
    "    \n",
    "    return list2\n",
    "\n",
    "print(\"YOu list with odd length is : \",odd(size))"
   ]
  },
  {
   "cell_type": "code",
   "execution_count": 19,
   "id": "6fb0aef0",
   "metadata": {},
   "outputs": [
    {
     "name": "stdout",
     "output_type": "stream",
     "text": [
      "First Non repeating Character in the string is :  a\n"
     ]
    }
   ],
   "source": [
    "# Q 21: Write a function that accepts a string and returns the first non-repeating character in the string.\n",
    "\n",
    "str1 = input(\"Enter the string : \")\n",
    "\n",
    "def non_repeat(str1):\n",
    "    for i in str1:\n",
    "        if str1.count(i) == 1:\n",
    "            break\n",
    "    return i\n",
    "\n",
    "print(\"First Non repeating Character in the string is : \",non_repeat(str1))"
   ]
  },
  {
   "cell_type": "code",
   "execution_count": null,
   "id": "a6ed074b",
   "metadata": {},
   "outputs": [
    {
     "name": "stdout",
     "output_type": "stream",
     "text": [
      "Sub String is not found\n"
     ]
    }
   ],
   "source": [
    "# Q 22: Write a function that accepts a string and a substring, and returns True if the substring is found in the string, otherwise False.\n",
    "\n",
    "str = input(\"Enter the string : \")\n",
    "sub_str = input(\"Enter the Sub String : \")\n",
    "\n",
    "status = False\n",
    "\n",
    "if sub_str in str:\n",
    "    status = True\n",
    "\n",
    "if status:\n",
    "    print(\"Sub String is found\")\n",
    "else:\n",
    "    print(\"Sub String is not found\")"
   ]
  },
  {
   "cell_type": "code",
   "execution_count": 1,
   "id": "73f15d06",
   "metadata": {},
   "outputs": [
    {
     "name": "stdout",
     "output_type": "stream",
     "text": [
      "Your list in descending order :  [3, 2]\n"
     ]
    }
   ],
   "source": [
    "# Q 23: Write a function that accepts a list of integers and returns the list sorted in descending order.\n",
    "\n",
    "list1 = []\n",
    "\n",
    "size = int(input(\"Enter the size of the list : \"))\n",
    "\n",
    "def desc(size):\n",
    "    temp = 0\n",
    "    for i in range(size):\n",
    "        add = int(input(\"Enter Elements in the list : \"))\n",
    "        list1.append(add)\n",
    "\n",
    "    for i in range(size):\n",
    "        for j in range(i + 1):\n",
    "            if list1[i] > list1[j]:\n",
    "                temp = list1[i]\n",
    "                list1[i] = list1[j]\n",
    "                list1[j] = temp\n",
    "\n",
    "    return list1\n",
    "\n",
    "print(\"Your list in descending order : \", desc(size))\n"
   ]
  },
  {
   "cell_type": "code",
   "execution_count": 11,
   "id": "049f7f19",
   "metadata": {},
   "outputs": [
    {
     "name": "stdout",
     "output_type": "stream",
     "text": [
      "List with all prime number is :  [2, 3, 5]\n"
     ]
    }
   ],
   "source": [
    "# Q 24: Write a function that accepts a list of numbers and returns the number of prime numbers in the list.\n",
    "\n",
    "\"\"\"num = int(input(\"Enter the number you want to check : \"))\n",
    "\n",
    "\n",
    "    def prime(num):\n",
    "        flag = False\n",
    "        for i in range(2,num):\n",
    "            if num % i == 0:\n",
    "                flag = True\n",
    "        return flag\n",
    "\n",
    "    if prime(num):\n",
    "        print(\"It is not prime number\")\n",
    "    else:\n",
    "        print(\"It is a prime number\")\n",
    "\n",
    "\"\"\"\n",
    "\n",
    "list1 = []\n",
    "size = int(input(\"Enter the size of the list : \"))\n",
    "list2 = []\n",
    "\n",
    "def prime(size):\n",
    "    for i in range(size):\n",
    "            add = int(input(\"Enter Elements in the list : \"))\n",
    "            list1.append(add)\n",
    "\n",
    "    for num in list1:\n",
    "        if num > 1:\n",
    "            for i in range(2,num):\n",
    "                if num % i == 0:\n",
    "                    break\n",
    "            else:\n",
    "                list2.append(num)\n",
    "    return list2\n",
    "\n",
    "print(\"List with all prime number is : \",prime(size))\n"
   ]
  },
  {
   "cell_type": "code",
   "execution_count": null,
   "id": "e4e86d59",
   "metadata": {},
   "outputs": [
    {
     "name": "stdout",
     "output_type": "stream",
     "text": [
      "6\n"
     ]
    }
   ],
   "source": [
    "# alternate for descending order \n",
    "list1 = [2,3,4,5,6,7]\n",
    "\n",
    "n = len(list1)\n",
    "\n",
    "for i in range(n):\n",
    "    for j in range(0 , n- i-1):\n",
    "        if list1[j] < list1[j+1]:\n",
    "            list1[j] , list1[j+1] = list1[j+1] , list1[j]\n",
    "print(list1[1])    "
   ]
  },
  {
   "cell_type": "code",
   "execution_count": 3,
   "id": "79d0ae8a",
   "metadata": {},
   "outputs": [
    {
     "name": "stdout",
     "output_type": "stream",
     "text": [
      "Total Numbers of negative numbers :  3\n"
     ]
    }
   ],
   "source": [
    "# Q 25: Write a function that accepts a list of numbers and returns the number of negative numbers in the list.\n",
    "\n",
    "list1 = []\n",
    "size = int(input(\"Enter the size of the list : \"))\n",
    "\n",
    "def negative(size):\n",
    "    count = 0\n",
    "    for i in range(size):\n",
    "        add = int(input(\"Enter elements in the list : \"))\n",
    "        list1.append(add)\n",
    "\n",
    "    for i in list1:\n",
    "        if i < 0:\n",
    "            count +=1\n",
    "\n",
    "    return count\n",
    "\n",
    "print(\"Total Numbers of negative numbers : \", negative(size))\n"
   ]
  },
  {
   "cell_type": "code",
   "execution_count": null,
   "id": "736eae66",
   "metadata": {},
   "outputs": [
    {
     "name": "stdout",
     "output_type": "stream",
     "text": [
      "['shivam', 'dave']\n",
      "Total words in the string are :  2\n"
     ]
    }
   ],
   "source": [
    "# Q 26: Write a function that accepts a string and returns the number of words in the string.\n",
    "\n",
    "# split method  splits the string after a whitespace occurs and puts them into the list \n",
    "\n",
    "str = input(\"Enter the string : \")\n",
    "\n",
    "def total_words(str):\n",
    "    str1 = str.split()\n",
    "    count = len(str1)\n",
    "\n",
    "    print(str1)\n",
    "\n",
    "    return count\n",
    "\n",
    "print(\"Total words in the string are : \",total_words(str))"
   ]
  },
  {
   "cell_type": "code",
   "execution_count": 12,
   "id": "50d10e9c",
   "metadata": {},
   "outputs": [
    {
     "name": "stdout",
     "output_type": "stream",
     "text": [
      "String is anagram\n"
     ]
    }
   ],
   "source": [
    "# Q 27: Write a function that accepts two strings and checks if one string is an anagram of the other.\n",
    "\n",
    "str1 = input(\"Enter the string : \")\n",
    "str2 = input(\"Enter the anagram string : \")\n",
    "\n",
    "def anagram(str1,str2):\n",
    "    for i in str1:\n",
    "        for j in str2:\n",
    "            if i and j in str1 and str2:\n",
    "                pass\n",
    "            else:\n",
    "                return False\n",
    "    return True\n",
    "\n",
    "        \n",
    "if anagram(str1,str2):\n",
    "    print(\"String is anagram\")\n",
    "else:\n",
    "    print(\"String is no anagram\")"
   ]
  },
  {
   "cell_type": "code",
   "execution_count": 23,
   "id": "8cc89be5",
   "metadata": {},
   "outputs": [
    {
     "name": "stdout",
     "output_type": "stream",
     "text": [
      "New string is :  ayn\n"
     ]
    }
   ],
   "source": [
    "# Q 28: Write a function that accepts a string and removes all duplicate characters from the string.\n",
    "\n",
    "str1 = input(\"Enter the string : \")\n",
    "def duplicate(str1):\n",
    "    str2 = \"\"\n",
    "    for i in str1:\n",
    "        if i not in str2:\n",
    "            str2 += i\n",
    "    return str2 \n",
    "\n",
    "print(\"New string is : \",duplicate(str1))\n"
   ]
  },
  {
   "cell_type": "code",
   "execution_count": 21,
   "id": "d8dadb1a",
   "metadata": {},
   "outputs": [
    {
     "name": "stdout",
     "output_type": "stream",
     "text": [
      "[2, 3, 4, 15, 15]\n",
      "Sum of Integers greater than 10 in the list is :  30\n"
     ]
    }
   ],
   "source": [
    "# Q 29: Write a function that accepts a list of integers and returns the sum of all numbers greater than 10.\n",
    "\n",
    "list1 = []\n",
    "size = int(input(\"Enter Size of the list : \"))\n",
    "\n",
    "def sum1(size):\n",
    "    sum = 0\n",
    "    for i in range(size):\n",
    "            add = int(input(\"Enter elements in the list : \"))\n",
    "            list1.append(add)\n",
    "    print(list1)\n",
    "\n",
    "    for i in list1:\n",
    "        if i > 10:\n",
    "            sum +=i\n",
    "    return sum\n",
    "\n",
    "print(\"Sum of Integers greater than 10 in the list is : \", sum1(size))\n"
   ]
  },
  {
   "cell_type": "code",
   "execution_count": 25,
   "id": "014ba079",
   "metadata": {},
   "outputs": [
    {
     "name": "stdout",
     "output_type": "stream",
     "text": [
      "['java', 'android', 'python']\n",
      "Total characters in all strings is :  [4, 7, 6]\n"
     ]
    }
   ],
   "source": [
    "# Q 30: Write a function that accepts a list of strings and returns the total number of characters in all strings.\n",
    "\n",
    "list1 = []\n",
    "size = int(input(\"Enter Size of the list : \"))\n",
    "\n",
    "def total(size):\n",
    "    list2 = []\n",
    "    for i in range(size):\n",
    "            add = (input(\"Enter elements in the list : \"))\n",
    "            list1.append(add)\n",
    "    print(list1)\n",
    "\n",
    "    for i in list1:\n",
    "        list2.append(len(i))\n",
    "    return list2\n",
    "\n",
    "print(\"Total characters in all strings is : \",total(size))"
   ]
  },
  {
   "cell_type": "code",
   "execution_count": 29,
   "id": "462946c3",
   "metadata": {},
   "outputs": [
    {
     "name": "stdout",
     "output_type": "stream",
     "text": [
      "['hello']\n",
      "Total Number of words repeated in the string is :  1\n"
     ]
    }
   ],
   "source": [
    "# Q 31: Write a function that accepts a string and returns the number of times a given word appears in the string.\n",
    "\n",
    "str1 = input(\"Enter the string : \")\n",
    "word = input(\"Enter the word : \")\n",
    "def word1(str1,word):\n",
    "    count = 0\n",
    "    str1 = str1.split()\n",
    "    print(str1)\n",
    "\n",
    "    for i in str1:\n",
    "        if i in word:\n",
    "            count+=1\n",
    "    return count\n",
    "\n",
    "print(\"Total Number of words repeated in the string is : \", word1(str1,word))"
   ]
  },
  {
   "cell_type": "code",
   "execution_count": 31,
   "id": "1ce38c8a",
   "metadata": {},
   "outputs": [
    {
     "name": "stdout",
     "output_type": "stream",
     "text": [
      "['java', 'android', 'python']\n",
      "['Java', 'Android', 'Python']\n"
     ]
    }
   ],
   "source": [
    "# Q 32: Write a function that accepts a list of strings and returns a new list where each string is capitalized.\n",
    "\n",
    "list1 = []\n",
    "size = int(input(\"Enter Size of the list : \"))\n",
    "list2 = []\n",
    "\n",
    "for i in range(size):\n",
    "        add = (input(\"Enter elements in the list : \"))\n",
    "        list1.append(add)\n",
    "print(list1)\n",
    "\n",
    "for i in list1:\n",
    "    list2.append(i.capitalize())\n",
    "print(list2)\n"
   ]
  },
  {
   "cell_type": "code",
   "execution_count": 2,
   "id": "5d355771",
   "metadata": {},
   "outputs": [
    {
     "name": "stdout",
     "output_type": "stream",
     "text": [
      "[15, 6, 12]\n",
      "New list is :  [6, 12]\n"
     ]
    }
   ],
   "source": [
    "# Q 33: Write a function that accepts a list of numbers and returns a new list with all the numbers that are divisible by both 2 and 3.\n",
    "\n",
    "list1 = []\n",
    "size = int(input(\"Enter Size of the list : \"))\n",
    "\n",
    "def div(size):\n",
    "    list2 = []\n",
    "\n",
    "    for i in range(size):\n",
    "        add = int(input(\"Enter elements in the list : \"))\n",
    "        list1.append(add)\n",
    "    print(list1)\n",
    "\n",
    "    for i in list1:\n",
    "        if i%2 == 0 and i%3 == 0:\n",
    "                list2.append(i)\n",
    "    return list2\n",
    "\n",
    "print(\"New list is : \",div(size))"
   ]
  },
  {
   "cell_type": "code",
   "execution_count": 6,
   "id": "f30f51a6",
   "metadata": {},
   "outputs": [
    {
     "name": "stdout",
     "output_type": "stream",
     "text": [
      "False\n"
     ]
    }
   ],
   "source": [
    "# Q 34: Write a function that accepts a string and returns True if the string is a valid email address (contains \"@\" and \".\"), otherwise False.\n",
    "\n",
    "str1 = input(\"Enter \")\n",
    "def email(str1):\n",
    "    for i in str1:\n",
    "        if \"@\" and \".com\" in str1:\n",
    "            return True\n",
    "        else:\n",
    "            return False\n",
    "\n",
    "print(email(str1))"
   ]
  },
  {
   "cell_type": "code",
   "execution_count": 8,
   "id": "85d60b8d",
   "metadata": {},
   "outputs": [
    {
     "name": "stdout",
     "output_type": "stream",
     "text": [
      "[1, 3, 2, 4, 6]\n",
      "TOtal even number in the list1 is :  [3]\n"
     ]
    }
   ],
   "source": [
    "# Q 35: Write a function that accepts a list of integers and returns the count of even numbers in the list.\n",
    "\n",
    "list1 = []\n",
    "size = int(input(\"Enter Size of the list : \"))\n",
    "\n",
    "def even(size):\n",
    "    list2 = []\n",
    "    count = 0\n",
    "\n",
    "    for i in range(size):\n",
    "            add = int(input(\"Enter elements in the list : \"))\n",
    "            list1.append(add)\n",
    "    print(list1)\n",
    "\n",
    "    for i in list1:\n",
    "            if i % 2 == 0:\n",
    "                count+=1\n",
    "    list2.append(count)\n",
    "    return list2\n",
    "\n",
    "print(\"TOtal even number in the list1 is : \",even(size))\n",
    "        "
   ]
  },
  {
   "cell_type": "code",
   "execution_count": 12,
   "id": "dd181a93",
   "metadata": {},
   "outputs": [
    {
     "data": {
      "text/plain": [
       "False"
      ]
     },
     "execution_count": 12,
     "metadata": {},
     "output_type": "execute_result"
    }
   ],
   "source": [
    "# Q 36: Write a function that accepts a string and checks if it contains only numeric characters.\n",
    "\n",
    "str1 = input(\"Enter the string : \")\n",
    "\n",
    "def num(str1):\n",
    "    for i in str1:\n",
    "        if str1.isnumeric():\n",
    "            return True\n",
    "        else:\n",
    "            return False\n",
    "\n",
    "num(str1)"
   ]
  },
  {
   "cell_type": "code",
   "execution_count": 19,
   "id": "739ec0c4",
   "metadata": {},
   "outputs": [
    {
     "name": "stdout",
     "output_type": "stream",
     "text": [
      "Dictionary is :  {'s': 1, 'h': 1, 'i': 1, 'v': 1, 'a': 1, 'm': 1}\n"
     ]
    }
   ],
   "source": [
    "# Q 37: Write a function that accepts a string and returns a dictionary where the keys \n",
    "#   are the characters and the values are the counts of those characters in the string.\n",
    "\n",
    "str1 = input(\"Enter the string : \")\n",
    "def dict(str1):\n",
    "    dict1 = {}\n",
    "    for i in str1:\n",
    "        if i in dict1:\n",
    "            dict1[i] += 1\n",
    "        else:\n",
    "            dict1[i] = 1\n",
    "    return dict1\n",
    "\n",
    "print(\"Dictionary is : \", dict(str1))\n"
   ]
  },
  {
   "cell_type": "code",
   "execution_count": 22,
   "id": "03f338e2",
   "metadata": {},
   "outputs": [
    {
     "name": "stdout",
     "output_type": "stream",
     "text": [
      "[12, -3, -2]\n",
      "New list is :  [144]\n"
     ]
    }
   ],
   "source": [
    "# Q 38: Write a function that accepts a list of integers and returns a new list with all the positive numbers squared.\n",
    "\n",
    "list1 = []\n",
    "size = int(input(\"Enter Size of the list : \"))\n",
    "\n",
    "def positive(size):\n",
    "    list2 = []\n",
    "    for i in range(size):\n",
    "            add = int(input(\"Enter elements in the list : \"))\n",
    "            list1.append(add)\n",
    "    print(list1)\n",
    "\n",
    "    list2 = [(i*i) for i in list1 if i > 0]\n",
    "    return list2\n",
    "\n",
    "print(\"New list is : \",positive(size))"
   ]
  },
  {
   "cell_type": "code",
   "execution_count": 6,
   "id": "18892c23",
   "metadata": {},
   "outputs": [
    {
     "name": "stdout",
     "output_type": "stream",
     "text": [
      "['java', 'android', 'python']\n",
      "[('java', 4), ('android', 7), ('python', 6)]\n"
     ]
    }
   ],
   "source": [
    "# Q 39: Write a function that accepts a list of strings and returns a list of the strings with their lengths.\n",
    "\n",
    "\n",
    "list1 = []\n",
    "size = int(input(\"Enter Size of the list : \"))\n",
    "\n",
    "\n",
    "for i in range(size):\n",
    "        add = input(\"Enter elements in the list : \")\n",
    "        list1.append(add)\n",
    "print(list1)\n",
    "\n",
    "list2 = [(i,len(i)) for i in list1]\n",
    "print(list2)\n"
   ]
  },
  {
   "cell_type": "code",
   "execution_count": null,
   "id": "6c488441",
   "metadata": {},
   "outputs": [
    {
     "name": "stdout",
     "output_type": "stream",
     "text": [
      "It is not a perfect\n"
     ]
    }
   ],
   "source": [
    "# Q 40: Write a function that accepts a number and prints whether it is a perfect number \n",
    "#   (a number that is equal to the sum of its divisors, excluding the number itself).\n",
    "\n",
    "num = int(input(\"Enter the number : \"))\n",
    "def perfect(num):\n",
    "    sum = 0\n",
    "    for i in range(1,num):\n",
    "        if num % i == 0:\n",
    "            sum +=i\n",
    "\n",
    "    if num == sum :\n",
    "        print(\"It is a perfect number\")\n",
    "    else:\n",
    "        print(\"It is not a perfect number\")\n",
    "    \n",
    "perfect(num)\n",
    "\n"
   ]
  },
  {
   "cell_type": "code",
   "execution_count": 14,
   "id": "521fa6b9",
   "metadata": {},
   "outputs": [
    {
     "name": "stdout",
     "output_type": "stream",
     "text": [
      "shvm\n"
     ]
    }
   ],
   "source": [
    "# Q 41: Write a function that accepts a string and returns the string with all vowels removed.\n",
    "\n",
    "str1 = input(\"ENter the string : \")\n",
    "def vowel(str1):\n",
    "    str2 = \"\"\n",
    "\n",
    "    for i in str1:\n",
    "        if i not in \"aeiou\":\n",
    "            str2+=i\n",
    "    print(str2)\n",
    "\n",
    "vowel(str1)"
   ]
  },
  {
   "cell_type": "code",
   "execution_count": null,
   "id": "2dbce770",
   "metadata": {},
   "outputs": [
    {
     "name": "stdout",
     "output_type": "stream",
     "text": [
      "[1, 2, 3, 4, 5]\n",
      "[0.5, 1.0, 1.5, 2.0, 2.5]\n"
     ]
    }
   ],
   "source": [
    "# Q 42: Write a function that accepts a list of numbers and returns a new list where each number is divided by 2.\n",
    "\n",
    "list1 = []\n",
    "size = int(input(\"Enter Size of the list : \"))\n",
    "\n",
    "\n",
    "def divide(list1):\n",
    "        list2 = []\n",
    "        for i in range(size):\n",
    "                add = int(input(\"Enter elements in the list : \"))\n",
    "                list1.append(add)\n",
    "        print(list1)\n",
    "\n",
    "        for i in list1:\n",
    "                list2.append(i/2)\n",
    "        print(list2)\n",
    "\n",
    "divide(\"New list is : \"list1)\n",
    "\n",
    "\n"
   ]
  },
  {
   "cell_type": "code",
   "execution_count": 28,
   "id": "17091383",
   "metadata": {},
   "outputs": [
    {
     "name": "stdout",
     "output_type": "stream",
     "text": [
      "[1, 2, 3, 4, 5]\n",
      "Average of all numbers is :  3.0\n"
     ]
    }
   ],
   "source": [
    "# Q 43: Write a function that accepts a list of numbers and returns the average of the numbers, excluding any zero values.\n",
    "\n",
    "list1 = []\n",
    "size = int(input(\"ENter the size of the list : \"))\n",
    "\n",
    "def average(list1):\n",
    "    avg = 0\n",
    "    sum = 0\n",
    "    for i in range(size):\n",
    "        add = int(input(\"Enter elements in the list : \"))\n",
    "        list1.append(add)\n",
    "    print(list1)\n",
    "\n",
    "    count = len(list1)\n",
    "\n",
    "    for i in list1:\n",
    "        sum += i\n",
    "        avg = sum / count\n",
    "    return avg\n",
    "\n",
    "print(\"Average of all numbers is : \",average(list1))\n"
   ]
  },
  {
   "cell_type": "code",
   "execution_count": null,
   "id": "2590d88f",
   "metadata": {},
   "outputs": [
    {
     "data": {
      "text/plain": [
       "'an'"
      ]
     },
     "execution_count": 48,
     "metadata": {},
     "output_type": "execute_result"
    }
   ],
   "source": [
    "# Q 44: Write a function that accepts two strings and returns the common characters between them.\n",
    "\n",
    "str1 = input(\"Enter the string 1 : \")\n",
    "str2 = input(\"Enter the string 2 : \")\n",
    "\n",
    "def common(str1,str2):\n",
    "    str3 = \"\"\n",
    "    s1 = \"\"\n",
    "    for i in str1:\n",
    "        if i in str2:\n",
    "            if i not in str3:\n",
    "                str3 += i\n",
    "    return str3   \n",
    "print(\"Common Characters in both strings are : \",common(str1,str2))"
   ]
  },
  {
   "cell_type": "code",
   "execution_count": 56,
   "id": "94b1867c",
   "metadata": {},
   "outputs": [
    {
     "name": "stdout",
     "output_type": "stream",
     "text": [
      "Longest word in the string is :  shivam\n"
     ]
    }
   ],
   "source": [
    "# Q 45: Write a function that accepts a string and returns the longest word in the string.\n",
    "\n",
    "str1 = input(\"Enter the string : \")\n",
    "\n",
    "def longest(str1):\n",
    "    str2 = str1.split()\n",
    "    str3 = \"\"\n",
    "    for i in str2:\n",
    "        if len(str3) < len(i):\n",
    "            str3 = i\n",
    "    return str3\n",
    "\n",
    "print(\"Longest word in the string is : \",longest(str1))"
   ]
  },
  {
   "cell_type": "code",
   "execution_count": null,
   "id": "51c3bdc0",
   "metadata": {},
   "outputs": [
    {
     "name": "stdout",
     "output_type": "stream",
     "text": [
      "2.5\n"
     ]
    }
   ],
   "source": [
    "# Q 46: Write a function that accepts a list of integers and returns the median value of the list.\n",
    "\n",
    "list1 = []\n",
    "size = int(input(\"Enter the size of the list : \"))\n",
    "list2 = []\n",
    "\n",
    "for i in range(size):\n",
    "    add = int(input(\"Enter elements in the list : \"))\n",
    "    list1.append(add)\n",
    "\n",
    "    if len(list1) % 2 == 0:\n",
    "        middle = size/2\n",
    "\n",
    "        med = middle\n",
    "\n",
    "\n"
   ]
  },
  {
   "cell_type": "code",
   "execution_count": 1,
   "id": "521f02dd",
   "metadata": {},
   "outputs": [
    {
     "name": "stdout",
     "output_type": "stream",
     "text": [
      "[8, 25, 20, 2, 3, 1, 16, 30, 19, 15]\n",
      "[[8, 25, 20, 2, 3, 1, 16, 30, 19, 15]]\n"
     ]
    }
   ],
   "source": [
    "# Q 47: Write a function that accepts a list of numbers and returns the smallest number that is divisible by both 4 and 5.\n",
    "\n",
    "list1 = []\n",
    "size = int(input(\"Enter size of the list : \"))\n",
    "list2 = []\n",
    "\n",
    "for i in range(size):\n",
    "    add = int(input(\"Enter elements in the list : \"))\n",
    "    list1.append(add)\n",
    "\n",
    "print(list1)\n",
    "\n",
    "for i in list1:\n",
    "    if i %4 == 0 and i%5 == 0:\n",
    "        list2.append(list1)\n",
    "\n",
    "print(list2)"
   ]
  }
 ],
 "metadata": {
  "kernelspec": {
   "display_name": "Python 3",
   "language": "python",
   "name": "python3"
  },
  "language_info": {
   "codemirror_mode": {
    "name": "ipython",
    "version": 3
   },
   "file_extension": ".py",
   "mimetype": "text/x-python",
   "name": "python",
   "nbconvert_exporter": "python",
   "pygments_lexer": "ipython3",
   "version": "3.13.6"
  }
 },
 "nbformat": 4,
 "nbformat_minor": 5
}
