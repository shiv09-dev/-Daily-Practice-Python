{
 "cells": [
  {
   "cell_type": "code",
   "execution_count": 4,
   "id": "f4368d38",
   "metadata": {},
   "outputs": [
    {
     "name": "stdout",
     "output_type": "stream",
     "text": [
      "Number 1 : (23) is Greater than Number 2 : (1)\n"
     ]
    }
   ],
   "source": [
    "num1 = int(input(\"Enter Number 1 : \"))\n",
    "num2 = int(input(\"ENter Number 2 : \"))\n",
    "\n",
    "if num1 > num2:\n",
    "    print(f\"Number 1 : ({num1}) is Greater than Number 2 : ({num2})\")\n",
    "else:\n",
    "    print(f\"Number 2 : ({num2}) is Greater than Number 1 : ({num1})\")"
   ]
  },
  {
   "cell_type": "code",
   "execution_count": 7,
   "id": "885a8366",
   "metadata": {},
   "outputs": [
    {
     "name": "stdout",
     "output_type": "stream",
     "text": [
      "Number is Positive\n"
     ]
    }
   ],
   "source": [
    "num1 = int(input(\"Enter the Number you want ot check : \"))\n",
    "\n",
    "if num1 < 0:\n",
    "    print(\"Number is Negative\")\n",
    "elif num1 == 0:\n",
    "    print(\"Number is Zero\")\n",
    "else:\n",
    "    print(\"Number is Positive\")"
   ]
  },
  {
   "cell_type": "code",
   "execution_count": null,
   "id": "6b95eb37",
   "metadata": {},
   "outputs": [],
   "source": [
    "num = int(input(\"Enter the Number you want ot check : \"))\n",
    "\n",
    "if num % 2 == 0:\n",
    "    print(\"NUmber is Even\")\n",
    "else:\n",
    "    print(\"Number is Odd\")"
   ]
  },
  {
   "cell_type": "code",
   "execution_count": null,
   "id": "353c2516",
   "metadata": {},
   "outputs": [],
   "source": []
  }
 ],
 "metadata": {
  "kernelspec": {
   "display_name": "Python 3",
   "language": "python",
   "name": "python3"
  },
  "language_info": {
   "codemirror_mode": {
    "name": "ipython",
    "version": 3
   },
   "file_extension": ".py",
   "mimetype": "text/x-python",
   "name": "python",
   "nbconvert_exporter": "python",
   "pygments_lexer": "ipython3",
   "version": "3.13.6"
  }
 },
 "nbformat": 4,
 "nbformat_minor": 5
}
